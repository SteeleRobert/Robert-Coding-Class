{
 "cells": [
  {
   "cell_type": "markdown",
   "metadata": {},
   "source": [
    "# Lesson 2\n",
    "Lesson 2 covers the if statements, loops, and functions"
   ]
  },
  {
   "cell_type": "markdown",
   "metadata": {},
   "source": [
    "#### Exercises\n",
    "\n",
    "Throughout the notebook there will be section with `# TODO`, These are exercises for you to test your knowledge\n",
    "\n",
    "Answers \n",
    "\n",
    "Anwsers can be found in the answers files, try to only check the answers if you are stuck or want to check your work. Also keep in mind that there are usually many ways to achieve the same result. If you are passing the test, but your code it not exactly the same as mine, that doesn't mean your solution is wrong\n",
    "\n",
    "Tests\n",
    "\n",
    "Some exercises my have test cases, these are for you to test your code as you are working, try to only look at the answer if you are passing all of the test cases.\n",
    "\n",
    "\n"
   ]
  },
  {
   "cell_type": "markdown",
   "metadata": {},
   "source": [
    "### Part 1: If statement\n",
    "If statements are used to change the function of your program based on the inputs of the program"
   ]
  },
  {
   "cell_type": "markdown",
   "metadata": {},
   "source": [
    "#### Boolean operations\n",
    "Boolean operations are operations that have to do with True and False values (booleans)"
   ]
  },
  {
   "cell_type": "code",
   "execution_count": 1,
   "metadata": {},
   "outputs": [],
   "source": [
    "# Booleans are True or False\n",
    "\n",
    "t = True\n",
    "f = False"
   ]
  },
  {
   "cell_type": "code",
   "execution_count": 2,
   "metadata": {},
   "outputs": [
    {
     "name": "stdout",
     "output_type": "stream",
     "text": [
      "True\n",
      "False\n",
      "False\n",
      "False\n",
      "True\n",
      "True\n"
     ]
    }
   ],
   "source": [
    "# To get booleans we can use comparison operators\n",
    "print(1 == 1) # == is equal to\n",
    "print(1 != 1) # != is not equal to\n",
    "print(1 > 1) # > is greater than\n",
    "print(1 < 1) # < is less than\n",
    "print(1 >= 1) # >= is greater than or equal to\n",
    "print(1 <= 1) # <= is less than or equal to"
   ]
  },
  {
   "cell_type": "code",
   "execution_count": 5,
   "metadata": {},
   "outputs": [
    {
     "name": "stdout",
     "output_type": "stream",
     "text": [
      "False\n",
      "True\n"
     ]
    }
   ],
   "source": [
    "# We can set variables to the result of a comparison\n",
    "x = 1\n",
    "y = 2\n",
    "z = x == y\n",
    "print(z)\n",
    "w = x < y\n",
    "print(w)"
   ]
  },
  {
   "cell_type": "code",
   "execution_count": null,
   "metadata": {},
   "outputs": [],
   "source": [
    "# If statements are statements that change the flow of the program based on a boolean\n",
    "x = 1\n",
    "y = 1\n",
    "if x == y:\n",
    "    # Make sure to indent the code that you want to run if the condition is true\n",
    "    print(\"x is equal to y\")"
   ]
  },
  {
   "cell_type": "code",
   "execution_count": null,
   "metadata": {},
   "outputs": [],
   "source": [
    "# We can also use else to run code if the condition is false\n",
    "x = 1\n",
    "y = 2\n",
    "if x == y:\n",
    "    print(\"x is equal to y\")\n",
    "else:\n",
    "    print(\"x is not equal to y\")"
   ]
  },
  {
   "cell_type": "code",
   "execution_count": null,
   "metadata": {},
   "outputs": [],
   "source": [
    "# We can also use elif to check multiple conditions\n",
    "\n",
    "# Play around with the values of x and y to see how the if statement changes\n",
    "x = 1\n",
    "y = 2\n",
    "if x == y:\n",
    "    print(\"x is equal to y\")\n",
    "elif x < y:\n",
    "    print(\"x is less than y\")\n",
    "elif x > y:\n",
    "    print(\"x is greater than y\")\n",
    "else:\n",
    "    print(\"x is not equal to y\")"
   ]
  },
  {
   "cell_type": "code",
   "execution_count": null,
   "metadata": {},
   "outputs": [],
   "source": [
    "# We can also use and and or to combine multiple conditions\n",
    "\n",
    "# Play around with the values of x and y to see how the if statement changes\n",
    "x = 1\n",
    "y = 2\n",
    "if x == 1 and y == 2:\n",
    "    print(\"x is 1 and y is 2\")\n",
    "\n",
    "if x == 1 or y == 2:\n",
    "    print(\"x is 1 or y is 2\")"
   ]
  },
  {
   "cell_type": "code",
   "execution_count": null,
   "metadata": {},
   "outputs": [],
   "source": [
    "# We can also use not to negate a condition\n",
    "\n",
    "# Play around with the values of x and y to see how the if statement changes\n",
    "x = 1\n",
    "y = 2\n",
    "\n",
    "if not x == 2:\n",
    "    print(\"x is not 2\")"
   ]
  },
  {
   "cell_type": "code",
   "execution_count": 11,
   "metadata": {},
   "outputs": [
    {
     "name": "stdout",
     "output_type": "stream",
     "text": [
      "Grouped\n",
      "x is not 2 and y is 1\n"
     ]
    }
   ],
   "source": [
    "# You can use parentheses to group conditions\n",
    "\n",
    "# Play around with the values of x and y to see how the if statement changes\n",
    "x = 1\n",
    "y = 2\n",
    "\n",
    "if not x == 2 and y == 1:\n",
    "    print('Not Grouped')\n",
    "    print(\"x is not 2 and y is 1\")\n",
    "\n",
    "if not (x == 2 and y ==1):\n",
    "    print('Grouped')\n",
    "    print(\"x is not 2 and y is 1\")\n",
    "\n",
    "# Think about which one of these is correct, and why"
   ]
  },
  {
   "cell_type": "code",
   "execution_count": null,
   "metadata": {},
   "outputs": [],
   "source": [
    "# You can also nest if statements\n",
    "\n",
    "if x == 1:\n",
    "    if y == 2:\n",
    "        print(\"x is 1 and y is 2\")"
   ]
  },
  {
   "cell_type": "code",
   "execution_count": null,
   "metadata": {},
   "outputs": [],
   "source": [
    "# Exercise 1: Write an if statement that checks if x is greater than 0 and less than 10\n",
    "\n",
    "def check_x(x):\n",
    "    if x # Fill in the condition here:\n",
    "        return True\n",
    "    else:\n",
    "        return False"
   ]
  },
  {
   "cell_type": "code",
   "execution_count": null,
   "metadata": {},
   "outputs": [],
   "source": [
    "# TEST \n",
    "if check_x(5) and not check_x(0) and not check_x(10) and not check_x(-1) and not check_x(11):\n",
    "    print(\"Great job! Your code works for all test cases\")\n",
    "else: \n",
    "    print(\"Try again! Your code does not work for all test cases\")"
   ]
  },
  {
   "cell_type": "code",
   "execution_count": null,
   "metadata": {},
   "outputs": [],
   "source": [
    "# Exercise 2: Write an if statement that checks if the name is a dict starts with 'A' and the age is greater or equal to than 21\n",
    "\n",
    "def check_name_and_age(name, age):\n",
    "    if # Fill in the condition here:\n",
    "        return True\n",
    "    else:\n",
    "        return False"
   ]
  },
  {
   "cell_type": "code",
   "execution_count": null,
   "metadata": {},
   "outputs": [],
   "source": [
    "# TEST\n",
    "if check_name_and_age({'name': 'Alice', 'age': 22}) and not check_name_and_age({'name': 'Bob', 'age': 22}) and not check_name_and_age({'name': 'Alice', 'age': 20}) and not check_name_and_age({'name': 'Bob', 'age': 20}):\n",
    "    print(\"Great job! Your code works for all test cases\")\n",
    "else:\n",
    "    print(\"Try again! Your code does not work for all test cases\")"
   ]
  }
 ],
 "metadata": {
  "kernelspec": {
   "display_name": ".venv",
   "language": "python",
   "name": "python3"
  },
  "language_info": {
   "codemirror_mode": {
    "name": "ipython",
    "version": 3
   },
   "file_extension": ".py",
   "mimetype": "text/x-python",
   "name": "python",
   "nbconvert_exporter": "python",
   "pygments_lexer": "ipython3",
   "version": "3.11.6"
  }
 },
 "nbformat": 4,
 "nbformat_minor": 2
}

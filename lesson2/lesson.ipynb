{
 "cells": [
  {
   "cell_type": "markdown",
   "metadata": {},
   "source": [
    "# Lesson 2\n",
    "Lesson 2 covers the if statements, loops, and functions"
   ]
  },
  {
   "cell_type": "markdown",
   "metadata": {},
   "source": [
    "#### Exercises\n",
    "\n",
    "Throughout the notebook there will be section with `# TODO`, These are exercises for you to test your knowledge\n",
    "\n",
    "Answers \n",
    "\n",
    "Anwsers can be found in the answers files, try to only check the answers if you are stuck or want to check your work. Also keep in mind that there are usually many ways to achieve the same result. If you are passing the test, but your code it not exactly the same as mine, that doesn't mean your solution is wrong\n",
    "\n",
    "Tests\n",
    "\n",
    "Some exercises my have test cases, these are for you to test your code as you are working, try to only look at the answer if you are passing all of the test cases.\n",
    "\n",
    "\n"
   ]
  },
  {
   "cell_type": "markdown",
   "metadata": {},
   "source": [
    "### Part 1: If statement\n",
    "If statements are used to change the function of your program based on the inputs of the program"
   ]
  },
  {
   "cell_type": "markdown",
   "metadata": {},
   "source": [
    "#### Boolean operations\n",
    "Boolean operations are operations that have to do with True and False values (booleans)"
   ]
  },
  {
   "cell_type": "code",
   "execution_count": 1,
   "metadata": {},
   "outputs": [],
   "source": [
    "# Booleans are True or False\n",
    "\n",
    "t = True\n",
    "f = False"
   ]
  },
  {
   "cell_type": "code",
   "execution_count": 2,
   "metadata": {},
   "outputs": [
    {
     "name": "stdout",
     "output_type": "stream",
     "text": [
      "True\n",
      "False\n",
      "False\n",
      "False\n",
      "True\n",
      "True\n"
     ]
    }
   ],
   "source": [
    "# To get booleans we can use comparison operators\n",
    "print(1 == 1) # == is equal to\n",
    "print(1 != 1) # != is not equal to\n",
    "print(1 > 1) # > is greater than\n",
    "print(1 < 1) # < is less than\n",
    "print(1 >= 1) # >= is greater than or equal to\n",
    "print(1 <= 1) # <= is less than or equal to"
   ]
  },
  {
   "cell_type": "code",
   "execution_count": 5,
   "metadata": {},
   "outputs": [
    {
     "name": "stdout",
     "output_type": "stream",
     "text": [
      "False\n",
      "True\n"
     ]
    }
   ],
   "source": [
    "# We can set variables to the result of a comparison\n",
    "x = 1\n",
    "y = 2\n",
    "z = x == y\n",
    "print(z)\n",
    "w = x < y\n",
    "print(w)"
   ]
  },
  {
   "cell_type": "code",
   "execution_count": null,
   "metadata": {},
   "outputs": [],
   "source": [
    "# If statements are statements that change the flow of the program based on a boolean\n",
    "x = 1\n",
    "y = 1\n",
    "if x == y:\n",
    "    # Make sure to indent the code that you want to run if the condition is true\n",
    "    print(\"x is equal to y\")"
   ]
  },
  {
   "cell_type": "code",
   "execution_count": null,
   "metadata": {},
   "outputs": [],
   "source": [
    "# We can also use else to run code if the condition is false\n",
    "x = 1\n",
    "y = 2\n",
    "if x == y:\n",
    "    print(\"x is equal to y\")\n",
    "else:\n",
    "    print(\"x is not equal to y\")"
   ]
  },
  {
   "cell_type": "code",
   "execution_count": null,
   "metadata": {},
   "outputs": [],
   "source": [
    "# We can also use elif to check multiple conditions\n",
    "\n",
    "# Play around with the values of x and y to see how the if statement changes\n",
    "x = 1\n",
    "y = 2\n",
    "if x == y:\n",
    "    print(\"x is equal to y\")\n",
    "elif x < y:\n",
    "    print(\"x is less than y\")\n",
    "elif x > y:\n",
    "    print(\"x is greater than y\")\n",
    "else:\n",
    "    print(\"x is not equal to y\")"
   ]
  },
  {
   "cell_type": "code",
   "execution_count": null,
   "metadata": {},
   "outputs": [],
   "source": [
    "# We can also use and and or to combine multiple conditions\n",
    "\n",
    "# Play around with the values of x and y to see how the if statement changes\n",
    "x = 1\n",
    "y = 2\n",
    "if x == 1 and y == 2:\n",
    "    print(\"x is 1 and y is 2\")\n",
    "\n",
    "if x == 1 or y == 2:\n",
    "    print(\"x is 1 or y is 2\")"
   ]
  },
  {
   "cell_type": "code",
   "execution_count": null,
   "metadata": {},
   "outputs": [],
   "source": [
    "# We can also use not to negate a condition\n",
    "\n",
    "# Play around with the values of x and y to see how the if statement changes\n",
    "x = 1\n",
    "y = 2\n",
    "\n",
    "if not x == 2:\n",
    "    print(\"x is not 2\")"
   ]
  },
  {
   "cell_type": "code",
   "execution_count": 11,
   "metadata": {},
   "outputs": [
    {
     "name": "stdout",
     "output_type": "stream",
     "text": [
      "Grouped\n",
      "x is not 2 and y is 1\n"
     ]
    }
   ],
   "source": [
    "# You can use parentheses to group conditions\n",
    "\n",
    "# Play around with the values of x and y to see how the if statement changes\n",
    "x = 1\n",
    "y = 2\n",
    "\n",
    "if not x == 2 and y == 1:\n",
    "    print('Not Grouped')\n",
    "    print(\"x is not 2 and y is 1\")\n",
    "\n",
    "if not (x == 2 and y ==1):\n",
    "    print('Grouped')\n",
    "    print(\"x is not 2 and y is 1\")\n",
    "\n",
    "# Think about which one of these is correct, and why"
   ]
  },
  {
   "cell_type": "code",
   "execution_count": null,
   "metadata": {},
   "outputs": [],
   "source": [
    "# You can also nest if statements\n",
    "\n",
    "if x == 1:\n",
    "    if y == 2:\n",
    "        print(\"x is 1 and y is 2\")"
   ]
  },
  {
   "cell_type": "code",
   "execution_count": null,
   "metadata": {},
   "outputs": [],
   "source": [
    "# Exercise 1: Write an if statement that checks if x is greater than 0 and less than 10\n",
    "\n",
    "def check_x(x):\n",
    "    if x # Fill in the condition here:\n",
    "        return True\n",
    "    else:\n",
    "        return False"
   ]
  },
  {
   "cell_type": "code",
   "execution_count": null,
   "metadata": {},
   "outputs": [],
   "source": [
    "# TEST \n",
    "if check_x(5) and not check_x(0) and not check_x(10) and not check_x(-1) and not check_x(11):\n",
    "    print(\"Great job! Your code works for all test cases\")\n",
    "else: \n",
    "    print(\"Try again! Your code does not work for all test cases\")"
   ]
  },
  {
   "cell_type": "code",
   "execution_count": null,
   "metadata": {},
   "outputs": [],
   "source": [
    "# Exercise 2: Write an if statement that checks if the name is a dict starts with 'A' and the age is greater or equal to than 21\n",
    "\n",
    "def check_name_and_age(name, age):\n",
    "    if # Fill in the condition here:\n",
    "        return True\n",
    "    else:\n",
    "        return False"
   ]
  },
  {
   "cell_type": "code",
   "execution_count": null,
   "metadata": {},
   "outputs": [],
   "source": [
    "# TEST\n",
    "if check_name_and_age({'name': 'Alice', 'age': 22}) and not check_name_and_age({'name': 'Bob', 'age': 22}) and not check_name_and_age({'name': 'Alice', 'age': 20}) and not check_name_and_age({'name': 'Bob', 'age': 20}):\n",
    "    print(\"Great job! Your code works for all test cases\")\n",
    "else:\n",
    "    print(\"Try again! Your code does not work for all test cases\")"
   ]
  },
  {
   "cell_type": "code",
   "execution_count": 3,
   "metadata": {},
   "outputs": [
    {
     "name": "stdout",
     "output_type": "stream",
     "text": [
      "4320\n"
     ]
    }
   ],
   "source": [
    "days = 3\n",
    "time_format = 'seconds'\n",
    "final_value = days * 24\n",
    "if time_format == 'minutes':\n",
    "    final_value *= 60\n",
    "if time_format == 'seconds':\n",
    "    final_value *= 60\n",
    "print(final_value)\n"
   ]
  },
  {
   "cell_type": "markdown",
   "metadata": {},
   "source": [
    "### Part 2: Loops"
   ]
  },
  {
   "cell_type": "code",
   "execution_count": 5,
   "metadata": {},
   "outputs": [
    {
     "name": "stdout",
     "output_type": "stream",
     "text": [
      "Rob\n",
      "Rob\n",
      "Rob\n",
      "Rob\n",
      "Rob\n"
     ]
    }
   ],
   "source": [
    "x = 0\n",
    "\n",
    "while x < 5:\n",
    "    print('Rob')\n",
    "    x += 1\n",
    "\n"
   ]
  },
  {
   "cell_type": "code",
   "execution_count": 6,
   "metadata": {},
   "outputs": [
    {
     "name": "stdout",
     "output_type": "stream",
     "text": [
      "name\n",
      "age\n"
     ]
    }
   ],
   "source": []
  },
  {
   "cell_type": "code",
   "execution_count": null,
   "metadata": {},
   "outputs": [],
   "source": []
  },
  {
   "cell_type": "markdown",
   "metadata": {},
   "source": [
    "### Part 3: Classes"
   ]
  },
  {
   "cell_type": "code",
   "execution_count": 2,
   "metadata": {},
   "outputs": [],
   "source": [
    "# Class is a combination of data and functions that operate on that data\n",
    "\n",
    "class Citizen:\n",
    "    def __init__(self, name, age, country, id):\n",
    "        self.name = name\n",
    "        self.age = age\n",
    "        self.country = country\n",
    "        self.id = id\n",
    "\n",
    "    def rename(self, new_name):\n",
    "        self.name = new_name\n",
    "\n",
    "    def pay_taxes(self, amount):\n",
    "        print(f'{self.name} paid {amount} in taxes')\n",
    "    "
   ]
  },
  {
   "cell_type": "code",
   "execution_count": 3,
   "metadata": {},
   "outputs": [],
   "source": [
    "Citizen1 = Citizen('Alice', 22, 'USA', 1)"
   ]
  },
  {
   "cell_type": "code",
   "execution_count": 4,
   "metadata": {},
   "outputs": [
    {
     "name": "stdout",
     "output_type": "stream",
     "text": [
      "Alice paid 100 in taxes\n"
     ]
    }
   ],
   "source": [
    "Citizen1.pay_taxes(100)"
   ]
  },
  {
   "cell_type": "code",
   "execution_count": null,
   "metadata": {},
   "outputs": [],
   "source": [
    "def pay_taxes(citizen, amount):\n",
    "    print(f'{citizen} paid {amount} in taxes')"
   ]
  },
  {
   "cell_type": "code",
   "execution_count": 6,
   "metadata": {},
   "outputs": [],
   "source": [
    "class Calculator:\n",
    "    def add(self, x, y):\n",
    "        return x + y\n",
    "\n",
    "    def subtract(self, x, y):\n",
    "        return x - y\n",
    "\n",
    "    def multiply(self, x, y):\n",
    "        return x * y\n",
    "\n",
    "    def divide(self, x, y):\n",
    "        return x / y"
   ]
  },
  {
   "cell_type": "code",
   "execution_count": 7,
   "metadata": {},
   "outputs": [],
   "source": [
    "Calculator1 = Calculator()\n"
   ]
  },
  {
   "cell_type": "code",
   "execution_count": 8,
   "metadata": {},
   "outputs": [
    {
     "data": {
      "text/plain": [
       "3"
      ]
     },
     "execution_count": 8,
     "metadata": {},
     "output_type": "execute_result"
    }
   ],
   "source": [
    "Calculator1.add(1, 2)"
   ]
  },
  {
   "cell_type": "code",
   "execution_count": null,
   "metadata": {},
   "outputs": [],
   "source": []
  }
 ],
 "metadata": {
  "kernelspec": {
   "display_name": ".venv",
   "language": "python",
   "name": "python3"
  },
  "language_info": {
   "codemirror_mode": {
    "name": "ipython",
    "version": 3
   },
   "file_extension": ".py",
   "mimetype": "text/x-python",
   "name": "python",
   "nbconvert_exporter": "python",
   "pygments_lexer": "ipython3",
   "version": "3.11.6"
  }
 },
 "nbformat": 4,
 "nbformat_minor": 2
}

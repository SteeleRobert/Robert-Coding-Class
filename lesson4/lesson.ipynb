{
 "cells": [
  {
   "cell_type": "code",
   "execution_count": null,
   "metadata": {},
   "outputs": [],
   "source": [
    "# Fill in words\n",
    "    # Have list of type of works\n",
    "    # Show word to user\n",
    "    # Get answer from user\n",
    "    # assign answer to word\n",
    "# Fill in the story\n",
    "# Print the story"
   ]
  },
  {
   "cell_type": "code",
   "execution_count": 19,
   "metadata": {},
   "outputs": [
    {
     "name": "stdout",
     "output_type": "stream",
     "text": [
      "adjective\n",
      "Animal (plural)\n",
      "Verb (past tense)\n",
      "Adverb\n",
      "Noun\n",
      "Verb (present tense)\n",
      "Exclamation\n",
      "Adjective\n",
      "{'adjective': 'giant', 'Animal (plural)': 'mice', 'Verb (past tense)': 'galloped', 'Adverb': 'sexily', 'Noun': 'sexily', 'Verb (present tense)': 'awoke', 'Exclamation': 'HAZAH!', 'Adjective': 'hairy'}\n",
      "{'adjective': 'giant', 'Animal (plural)': 'mice', 'Verb (past tense)': 'galloped', 'Adverb': 'sexily', 'Noun': 'sexily', 'Verb (present tense)': 'awoke', 'Exclamation': 'HAZAH!', 'Adjective': 'hairy'}\n",
      "{'adjective': 'giant', 'Animal (plural)': 'mice', 'Verb (past tense)': 'galloped', 'Adverb': 'sexily', 'Noun': 'sexily', 'Verb (present tense)': 'awoke', 'Exclamation': 'HAZAH!', 'Adjective': 'hairy'}\n",
      "{'adjective': 'giant', 'Animal (plural)': 'mice', 'Verb (past tense)': 'galloped', 'Adverb': 'sexily', 'Noun': 'sexily', 'Verb (present tense)': 'awoke', 'Exclamation': 'HAZAH!', 'Adjective': 'hairy'}\n",
      "{'adjective': 'giant', 'Animal (plural)': 'mice', 'Verb (past tense)': 'galloped', 'Adverb': 'sexily', 'Noun': 'sexily', 'Verb (present tense)': 'awoke', 'Exclamation': 'HAZAH!', 'Adjective': 'hairy'}\n",
      "{'adjective': 'giant', 'Animal (plural)': 'mice', 'Verb (past tense)': 'galloped', 'Adverb': 'sexily', 'Noun': 'sexily', 'Verb (present tense)': 'awoke', 'Exclamation': 'HAZAH!', 'Adjective': 'hairy'}\n",
      "{'adjective': 'giant', 'Animal (plural)': 'mice', 'Verb (past tense)': 'galloped', 'Adverb': 'sexily', 'Noun': 'sexily', 'Verb (present tense)': 'awoke', 'Exclamation': 'HAZAH!', 'Adjective': 'hairy'}\n",
      "{'adjective': 'giant', 'Animal (plural)': 'mice', 'Verb (past tense)': 'galloped', 'Adverb': 'sexily', 'Noun': 'sexily', 'Verb (present tense)': 'awoke', 'Exclamation': 'HAZAH!', 'Adjective': 'hairy'}\n"
     ]
    },
    {
     "data": {
      "text/plain": [
       "'Today, I went to the zoo and saw the most (adjective) (animal plural)! They (verb past tense) (adverb) across their enclosure while holding a (noun). Everyone started to (verb present tense) and yell \"(exclamation)!\" It was such a (adjective) day at the zoo!'"
      ]
     },
     "execution_count": 19,
     "metadata": {},
     "output_type": "execute_result"
    }
   ],
   "source": [
    "madlib_dict = {\n",
    "    \"adjective\": \"\",\n",
    "    \"Animal (plural)\": \"\",\n",
    "    \"Verb (past tense)\": \"\",\n",
    "    \"Adverb\": \"\",\n",
    "    \"Noun\": \"\",\n",
    "    \"Verb (present tense)\": \"\",\n",
    "    \"Exclamation\": \"\",\n",
    "    \"Adjective\": \"\",\n",
    "}\n",
    "\n",
    "\n",
    "\n",
    "def fill_dict(madlib_dict):\n",
    "    for word in madlib_dict:\n",
    "        madlib_dict[word] = get_answer(word)\n",
    "    return madlib_dict\n",
    "\n",
    "\n",
    "\n",
    "def get_answer(word):\n",
    "    print(word)\n",
    "    val = input(\"choose correct type of word: \")\n",
    "    return val\n",
    "\n",
    "\n",
    "\n",
    "madlib_dict = fill_dict(madlib_dict)"
   ]
  },
  {
   "cell_type": "code",
   "execution_count": 20,
   "metadata": {},
   "outputs": [],
   "source": [
    "madlib_dict[\"Noun\"] = \"chair\""
   ]
  },
  {
   "cell_type": "code",
   "execution_count": 31,
   "metadata": {},
   "outputs": [
    {
     "name": "stdout",
     "output_type": "stream",
     "text": [
      "adjective\n",
      "giant\n",
      "Animal (plural)\n",
      "mice\n",
      "Verb (past tense)\n",
      "galloped\n",
      "Adverb\n",
      "sexily\n",
      "Noun\n",
      "chair\n",
      "Verb (present tense)\n",
      "awoke\n",
      "Exclamation\n",
      "HAZAH!\n",
      "Adjective\n",
      "hairy\n"
     ]
    },
    {
     "data": {
      "text/plain": [
       "'Today, I went to the zoo and saw the most giant mice! They galloped sexily across their enclosure while holding a chair. Everyone started to awoke and yell \"HAZAH!!\" It was such a hairy day at the zoo!'"
      ]
     },
     "execution_count": 31,
     "metadata": {},
     "output_type": "execute_result"
    }
   ],
   "source": [
    "# i want to replace word in story with answer \n",
    "def fill_story(story, madlib_dict):\n",
    "    for word in madlib_dict:\n",
    "        print(word)\n",
    "        print(madlib_dict[word])\n",
    "        story = story.replace(word, madlib_dict[word])\n",
    "    return story\n",
    "madlib_story = \"Today, I went to the zoo and saw the most adjective Animal (plural)! They Verb (past tense) Adverb across their enclosure while holding a Noun. Everyone started to Verb (present tense) and yell \\\"Exclamation!\\\" It was such a Adjective day at the zoo!\"\n",
    "\n",
    "fill_story(madlib_story, madlib_dict)"
   ]
  },
  {
   "cell_type": "code",
   "execution_count": 24,
   "metadata": {},
   "outputs": [],
   "source": [
    "test = \"This is a test\"\n",
    "test = test.replace('is', 'was')"
   ]
  },
  {
   "cell_type": "code",
   "execution_count": 25,
   "metadata": {},
   "outputs": [
    {
     "name": "stdout",
     "output_type": "stream",
     "text": [
      "Thwas was a test\n"
     ]
    }
   ],
   "source": [
    "print(test)"
   ]
  },
  {
   "cell_type": "code",
   "execution_count": 39,
   "metadata": {},
   "outputs": [
    {
     "name": "stdout",
     "output_type": "stream",
     "text": [
      "['giant', 'mice', 'galloped', 'sexily', 'chair', 'awoke', 'HAZAH!', 'hairy']\n"
     ]
    },
    {
     "data": {
      "text/plain": [
       "'Today, I went to the zoo and saw the most giant mice! They galloped sexily across their enclosure while holding a chair. Everyone started to awoke and yell \"HAZAH!!\" It was such a hairy day at the zoo!'"
      ]
     },
     "execution_count": 39,
     "metadata": {},
     "output_type": "execute_result"
    }
   ],
   "source": [
    "# i want to replace word in story with answer \n",
    "def fill_story_format(story, madlib_dict):\n",
    "    story = story.format(*list(madlib_dict.values()))\n",
    "    return story\n",
    "\n",
    "madlib_story_format = \"Today, I went to the zoo and saw the most {} {}! They {} {} across their enclosure while holding a {}. Everyone started to {} and yell \\\"{}!\\\" It was such a {} day at the zoo!\"\n",
    "\n",
    "fill_story_format(madlib_story_format, madlib_dict)"
   ]
  },
  {
   "cell_type": "code",
   "execution_count": null,
   "metadata": {},
   "outputs": [],
   "source": []
  }
 ],
 "metadata": {
  "kernelspec": {
   "display_name": ".venv",
   "language": "python",
   "name": "python3"
  },
  "language_info": {
   "codemirror_mode": {
    "name": "ipython",
    "version": 3
   },
   "file_extension": ".py",
   "mimetype": "text/x-python",
   "name": "python",
   "nbconvert_exporter": "python",
   "pygments_lexer": "ipython3",
   "version": "3.11.6"
  }
 },
 "nbformat": 4,
 "nbformat_minor": 2
}
